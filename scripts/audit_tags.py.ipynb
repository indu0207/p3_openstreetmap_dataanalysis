{
 "cells": [
  {
   "cell_type": "code",
   "execution_count": 1,
   "metadata": {
    "collapsed": false
   },
   "outputs": [
    {
     "name": "stdout",
     "output_type": "stream",
     "text": [
      "{'lower': 186001, 'lower_colon': 7987, 'other': 168, 'problemchars': 4}\n",
      "[{'k': 'Gaurav General Store', 'v': 'convenience'},\n",
      " {'k': 'Aggarwal Sweets', 'v': 'fast_food'},\n",
      " {'k': 'Ladies Readymade Garments', 'v': ''},\n",
      " {'k': 'M.S. FLAT', 'v': ''}]\n"
     ]
    }
   ],
   "source": [
    "\n",
    "\n",
    "import xml.etree.ElementTree as ET\n",
    "import pprint\n",
    "import re\n",
    "\n",
    "INPUT_FILE = '/Users/indur/Downloads/new-delhi_india.osm'\n",
    "\n",
    "# Regular expression for key patterns\n",
    "lower = re.compile(r'^([a-z]|_)*$')\n",
    "lower_colon = re.compile(r'^([a-z]|_)*:([a-z]|_)*$')\n",
    "problemchars = re.compile(r'[=\\+/&<>;\\'\"\\?%#$@\\,\\. \\t\\r\\n]')\n",
    "\n",
    "problem_keys = []\n",
    "\n",
    "# Classify given element into set of key patterns\n",
    "def key_type(element, keys):\n",
    "   \n",
    "    if element.tag == \"tag\":\n",
    "        \n",
    "        v = element.attrib['k']\n",
    "        m = lower.search(v) \n",
    "        if m:\n",
    "            keys[\"lower\"] += 1\n",
    "        else:\n",
    "            m = lower_colon.search(v)\n",
    "            if m:\n",
    "                keys[\"lower_colon\"] += 1\n",
    "            else:\n",
    "                m = problemchars.search(v)\n",
    "                if m:\n",
    "                    keys[\"problemchars\"] += 1\n",
    "                    problem_keys.append(element.attrib)\n",
    "                else:\n",
    "                    keys[\"other\"] += 1\n",
    "        \n",
    "    return keys\n",
    "\n",
    "\n",
    "def process_map(filename):\n",
    "    keys = {\"lower\": 0, \"lower_colon\": 0, \"problemchars\": 0, \"other\": 0}\n",
    "    for _, element in ET.iterparse(filename):\n",
    "        keys = key_type(element, keys)\n",
    "\n",
    "    return keys\n",
    "\n",
    "\n",
    "# Main entry point to parse and list down categorized key \n",
    "def test():\n",
    "    keys = process_map(INPUT_FILE)\n",
    "    pprint.pprint(keys)\n",
    "    pprint.pprint(problem_keys)\n",
    "    \n",
    "\n",
    "if __name__ == \"__main__\":\n",
    "    test()"
   ]
  },
  {
   "cell_type": "code",
   "execution_count": null,
   "metadata": {
    "collapsed": true
   },
   "outputs": [],
   "source": []
  }
 ],
 "metadata": {
  "kernelspec": {
   "display_name": "Python 2",
   "language": "python",
   "name": "python2"
  },
  "language_info": {
   "codemirror_mode": {
    "name": "ipython",
    "version": 2
   },
   "file_extension": ".py",
   "mimetype": "text/x-python",
   "name": "python",
   "nbconvert_exporter": "python",
   "pygments_lexer": "ipython2",
   "version": "2.7.11"
  }
 },
 "nbformat": 4,
 "nbformat_minor": 0
}
